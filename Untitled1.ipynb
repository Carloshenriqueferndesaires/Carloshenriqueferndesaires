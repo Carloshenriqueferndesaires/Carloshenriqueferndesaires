{
  "nbformat": 4,
  "nbformat_minor": 0,
  "metadata": {
    "colab": {
      "provenance": [],
      "authorship_tag": "ABX9TyOEvWBnCSc1B+bqFh+kwPas",
      "include_colab_link": true
    },
    "kernelspec": {
      "name": "python3",
      "display_name": "Python 3"
    },
    "language_info": {
      "name": "python"
    }
  },
  "cells": [
    {
      "cell_type": "markdown",
      "metadata": {
        "id": "view-in-github",
        "colab_type": "text"
      },
      "source": [
        "<a href=\"https://colab.research.google.com/github/Carloshenriqueferndesaires/Carloshenriqueferndesaires/blob/main/Untitled1.ipynb\" target=\"_parent\"><img src=\"https://colab.research.google.com/assets/colab-badge.svg\" alt=\"Open In Colab\"/></a>"
      ]
    },
    {
      "cell_type": "code",
      "execution_count": 1,
      "metadata": {
        "id": "wlk0F_RyhDf6"
      },
      "outputs": [],
      "source": [
        "import time\n",
        "import tracemalloc\n",
        "from collections import deque\n",
        "\n",
        "estado_objetivo = [1, 2, 3,\n",
        "                   8, 0, 4,\n",
        "                   7, 6, 5]\n",
        "\n",
        "def obter_sucessores(estado):\n",
        "    sucessores = []\n",
        "    posicao_vazio = estado.index(0)\n",
        "    linha, coluna = divmod(posicao_vazio, 3)\n",
        "\n",
        "    movimentos = {\n",
        "        'Cima':    (-1, 0),\n",
        "        'Baixo':   (1, 0),\n",
        "        'Esquerda': (0, -1),\n",
        "        'Direita':  (0, 1)\n",
        "    }\n",
        "\n",
        "    for acao, (dl, dc) in movimentos.items():\n",
        "        nova_linha, nova_coluna = linha + dl, coluna + dc\n",
        "        if 0 <= nova_linha < 3 and 0 <= nova_coluna < 3:\n",
        "            nova_posicao = nova_linha * 3 + nova_coluna\n",
        "            novo_estado = estado.copy()\n",
        "            novo_estado[posicao_vazio], novo_estado[nova_posicao] = novo_estado[nova_posicao], novo_estado[posicao_vazio]\n",
        "            sucessores.append((novo_estado, acao))\n",
        "    return sucessores"
      ]
    },
    {
      "cell_type": "markdown",
      "source": [
        "Nesta célula, definimos as importações necessárias, o estado objetivo e a função\n",
        "\n",
        "obter_sucessores(estado) que gera os estados vizinhos válidos para um estado fornecido. Observe que o estado é representado como lista  e o estado inicial será denominado em pazzlle."
      ],
      "metadata": {
        "id": "3m4F0wwYM749"
      }
    },
    {
      "cell_type": "code",
      "source": [
        "def busca_largura(pazzlle):\n",
        "\n",
        "    tempo_inicio = time.time()\n",
        "    tracemalloc.start()\n",
        "\n",
        "    # Fila (estrutura FIFO) com o estado inicial e o caminho vazio\n",
        "    fronteira = deque([(pazzlle, [])])  # cada item é (estado, caminho até aqui)\n",
        "    visitados = set()\n",
        "    visitados.add(tuple([pazzlle]))\n",
        "\n",
        "    nos_expandidos = 0\n",
        "    tamanho_max_fronteira = len(fronteira)\n",
        "    profundidade_max = 0\n",
        "\n",
        "    while fronteira:\n",
        "        estado_atual, caminho = fronteira.popleft()\n",
        "\n",
        "        # Verifica se o estado atual é o estado objetivo\n",
        "        if estado_atual == estado_objetivo:\n",
        "            tempo_execucao = time.time() - tempo_inicio\n",
        "            memoria_atual, pico_memoria = tracemalloc.get_traced_memory()\n",
        "            tracemalloc.stop()\n",
        "            return {\n",
        "                'caminho_para_objetivo': caminho,\n",
        "                'custo_do_caminho': len(caminho),\n",
        "                'nos_expandidos': nos_expandidos,\n",
        "                'tamanho_fronteira': len(fronteira),\n",
        "                'tamanho_max_fronteira': tamanho_max_fronteira,\n",
        "                'profundidade_busca': len(caminho),\n",
        "                'profundidade_maxima': profundidade_max,\n",
        "                'tempo_execucao': tempo_execucao,\n",
        "                'uso_max_memoria_MB': pico_memoria / 1024 / 1024\n",
        "            }\n",
        "\n",
        "        nos_expandidos += 1\n",
        "        for sucessor, acao in obter_sucessores(estado_atual):\n",
        "            if sucessor not in visitados:\n",
        "                novo_caminho = caminho + [acao]\n",
        "                fronteira.append((sucessor, novo_caminho))\n",
        "                visitados.add(sucessor)\n",
        "                tamanho_max_fronteira = max(tamanho_max_fronteira, len(fronteira))\n",
        "                profundidade_max = max(profundidade_max, len(novo_caminho))\n",
        "\n",
        "    return None\n",
        "    pazzlle=[0,8,7,6,5,4,3,2,1]\n",
        "    busca_largura(pazzlle)\n",
        "    print(\"\\nResultado da Busca em Largura:\")\n",
        "    for chave, valor in resultado_busca.items():\n",
        "        print(f\"{chave}: {valor}\")"
      ],
      "metadata": {
        "id": "W9V5ubkZof3g"
      },
      "execution_count": 2,
      "outputs": []
    },
    {
      "cell_type": "markdown",
      "source": [
        "A função busca_largura(pazzlle) implementa a busca em largura (BFS). Ela utiliza uma fila para manter a fronteira e um conjunto para rastrear os estados visitados. Ao encontrar o estado objetivo, a função retorna um dicionário com o caminho, custo, número de nós expandidos e outras métricas importantes."
      ],
      "metadata": {
        "id": "7O2M7v1yP23F"
      }
    },
    {
      "cell_type": "code",
      "source": [
        "def busca_profundidade(puzzle):\n",
        "    tempo_inicio = time.time()\n",
        "    tracemalloc.start()\n",
        "\n",
        "    # Usamos uma pilha para DFS: (estado, caminho)\n",
        "    pilha = [(puzzle, [])]\n",
        "    nos_expandidos = 0\n",
        "    tamanho_max_fronteira = len(pilha)\n",
        "    profundidade_max_busca = 0\n",
        "    # Para DFS, realiza a verificação de ciclos somente no caminho atual\n",
        "    visitados_no_caminho = set()\n",
        "\n",
        "    while pilha:\n",
        "        estado, caminho = pilha.pop()\n",
        "        estado_tupla = tuple(estado)\n",
        "        if estado_tupla in visitados_no_caminho:\n",
        "            continue\n",
        "        visitados_no_caminho.add(estado_tupla)\n",
        "\n",
        "        if estado == estado_objetivo:\n",
        "            tempo_execucao = time.time() - tempo_inicio\n",
        "            atual, pico = tracemalloc.get_traced_memory()\n",
        "            tracemalloc.stop()\n",
        "            return {\n",
        "                'caminho_ate_objetivo': caminho,\n",
        "                'custo_do_caminho': len(caminho),\n",
        "                'nos_expandidos': nos_expandidos,\n",
        "                'tamanho_fronteira': len(pilha),\n",
        "                'tamanho_max_fronteira': tamanho_max_fronteira,\n",
        "                'profundidade_busca': len(caminho),\n",
        "                'profundidade_max_busca': profundidade_max_busca,\n",
        "                'tempo_execucao': tempo_execucao,\n",
        "                'uso_max_ram': pico / 1024 / 1024\n",
        "            }\n",
        "\n",
        "        nos_expandidos += 1\n",
        "\n",
        "        # Expandir sucessores em ordem invertida para manter consistência\n",
        "        for filho, acao in reversed(get_successors(estado)):\n",
        "            filho_tupla = tuple(filho)\n",
        "            if filho_tupla not in visitados_no_caminho:\n",
        "                novo_caminho = caminho + [acao]\n",
        "                pilha.append((filho, novo_caminho))\n",
        "                profundidade_max_busca = max(profundidade_max_busca, len(novo_caminho))\n",
        "        tamanho_max_fronteira = max(tamanho_max_fronteira, len(pilha))\n",
        "\n",
        "    return None\n",
        "\n",
        "    puzzlle=[0,8,7,6,5,4,3,2,1]\n",
        "    resultado_busca = busca_profundidade(puzzlle)\n",
        "    print(\"\\nResultado da Busca em Profundidade:\")\n",
        "    for chave, valor in resultado_busca.items():\n",
        "       print(f\"{chave}: {valor}\")"
      ],
      "metadata": {
        "id": "qtOdphp-ticw"
      },
      "execution_count": 3,
      "outputs": []
    },
    {
      "cell_type": "markdown",
      "source": [
        "A função dfs aplica a busca em profundidade (DFS) utilizando uma pilha. Nesta implementação, a verificação de ciclo ocorre apenas para o caminho atual (armazenado em visited_in_path)."
      ],
      "metadata": {
        "id": "H2WvvnIvOjbC"
      }
    },
    {
      "cell_type": "code",
      "source": [
        "def busca_em_profundidade_iterativa(puzzle):\n",
        "    tempo_inicio = time.time()\n",
        "    tracemalloc.start()\n",
        "\n",
        "    nos_expandidos_total = 0\n",
        "    tamanho_max_fronteira_total = 0\n",
        "    profundidade_max_busca_geral = 0\n",
        "    resultado = None\n",
        "    limite_profundidade = 0\n",
        "\n",
        "    def busca_limitada(estado, caminho, limite, visitados):\n",
        "        nonlocal nos_expandidos_total, profundidade_max_busca_geral, resultado\n",
        "        if estado == estado_objetivo:\n",
        "            resultado = caminho\n",
        "            return True\n",
        "        if limite == 0:\n",
        "            return False\n",
        "        nos_expandidos_total += 1\n",
        "        for filho, acao in obter_sucessores(estado):\n",
        "            filho_tupla = tuple(filho)\n",
        "            if filho_tupla not in visitados:\n",
        "                visitados.add(filho_tupla)\n",
        "                profundidade_max_busca_geral = max(profundidade_max_busca_geral, len(caminho) + 1)\n",
        "                if busca_limitada(filho, caminho + [acao], limite - 1, visitados):\n",
        "                    return True\n",
        "                visitados.remove(filho_tupla)\n",
        "        return False\n",
        "\n",
        "    while True:\n",
        "        visitados = set([tuple(puzzle)])\n",
        "        encontrado = busca_limitada(puzzle, [], limite_profundidade, visitados)\n",
        "        tamanho_max_fronteira_total = max(tamanho_max_fronteira_total, len(visitados))\n",
        "        if encontrado:\n",
        "            tempo_execucao = time.time() - tempo_inicio\n",
        "            atual, pico = tracemalloc.get_traced_memory()\n",
        "            tracemalloc.stop()\n",
        "            return {\n",
        "                'caminho_para_objetivo': resultado,\n",
        "                'custo_do_caminho': len(resultado),\n",
        "                'nos_expandidos': nos_expandidos_total,\n",
        "                'tamanho_fronteira': len(visitados),\n",
        "                'tamanho_max_fronteira': tamanho_max_fronteira_total,\n",
        "                'profundidade_busca': len(resultado),\n",
        "                'profundidade_max_busca': profundidade_max_busca_geral,\n",
        "                'tempo_execucao': tempo_execucao,\n",
        "                'uso_max_memoria_MB': pico / 1024 / 1024\n",
        "            }\n",
        "    limite_profundidade += 1\n",
        "puzzlle=[0,8,7,6,5,4,3,2,1]\n",
        "resultado_iddfs = busca_em_profundidade_iterativa(puzzlle)\n",
        "print(\"\\nResultado IDDFS:\")\n",
        "for chave, valor in resultado_iddfs.items():\n",
        "    print(f\"{chave}: {valor}\")"
      ],
      "metadata": {
        "id": "tDvSiKayw4wK"
      },
      "execution_count": null,
      "outputs": []
    },
    {
      "cell_type": "markdown",
      "source": [
        "A função busca_em_profundidade_iterativa(puzzle)combina os pontos fortes da DFS com a garantia de encontrar a solução ótima (como na BFS). Ela realiza chamadas recursivas com limite de profundidade crescente até encontrar o estado objetivo. A verificação de estados visitados é feita utilizando conjuntos com conversão para tupla."
      ],
      "metadata": {
        "id": "vrERxAllSAR5"
      }
    }
  ]
}